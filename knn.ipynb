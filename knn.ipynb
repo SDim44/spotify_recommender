{
 "cells": [
  {
   "cell_type": "code",
   "execution_count": 1,
   "metadata": {},
   "outputs": [],
   "source": [
    "import pandas as pd\n",
    "import numpy as np\n",
    "import pickle\n",
    "import time\n",
    "from sklearn.preprocessing import StandardScaler\n",
    "from sklearn.decomposition import PCA\n",
    "from sklearn.ensemble import RandomForestRegressor\n",
    "from sklearn.feature_selection import SelectFromModel\n",
    "from sklearn.neighbors import NearestNeighbors\n",
    "\n",
    "\n",
    "class SpotifyRecommander:\n",
    "    def __init__(self):\n",
    "        self.scaler = None\n",
    "        self.pca = None\n",
    "        self.sfm = None\n",
    "        self.knn = None\n",
    "        self.filepath = None\n",
    "        self.features = []\n",
    "\n",
    "    def get_features(self,data):\n",
    "        supported = ['acousticness', 'danceability', 'duration_ms', 'energy', 'instrumentalness', 'key', 'liveness', 'loudness', 'mode', 'speechiness', 'tempo', 'time_signature', 'valence'] + [f'Chroma_{i}' for i in range(1, 13)] + [f'MEL_{i}' for i in range(1, 129)] + [f'MFCC_{i}' for i in range(1, 49)] + [f'Spectral_contrast_{i}' for i in range(1, 8)] + [f'Tonnetz_{i}' for i in range(1, 7)] + ['ZCR', 'entropy_energy', 'spectral_bandwith', 'spectral_centroid', 'spectral_rollOff_max', 'spectral_rollOff_min']\n",
    "        listed = data.columns.tolist()\n",
    "        for f in listed:\n",
    "            if f in supported:\n",
    "                self.features.append(f)\n",
    "\n",
    "\n",
    "    def train(self, data):\n",
    "        self.features = self.get_features(data)\n",
    "\n",
    "        self.scaler = StandardScaler()\n",
    "        scaled_data = self.scaler.fit_transform(data[self.features])\n",
    "\n",
    "        rf = RandomForestRegressor(n_estimators=100, random_state=42)\n",
    "        rf.fit(scaled_data, data.index)  # Hier verwende ich data.index anstelle von target\n",
    "\n",
    "        self.sfm = SelectFromModel(rf, threshold='mean')\n",
    "        self.sfm.fit(scaled_data, data.index)  # Hier verwende ich data.index anstelle von target\n",
    "\n",
    "        self.pca = PCA(n_components=0.95)\n",
    "        reduced_data = self.pca.fit_transform(scaled_data[:, self.sfm.get_support()])\n",
    "\n",
    "        self.knn = NearestNeighbors(n_neighbors=5)\n",
    "        self.knn.fit(reduced_data)\n",
    "\n",
    "    def predict(self, new_data):\n",
    "        new_scaled_data = self.scaler.transform(new_data[self.features])\n",
    "        new_reduced_data = self.pca.transform(new_scaled_data[:, self.sfm.get_support()])\n",
    "        distances, indices = self.knn.kneighbors(new_reduced_data)\n",
    "        return distances, indices\n",
    "\n",
    "    def save(self, file_path=None):\n",
    "        if file_path == None:\n",
    "            file_path = self.filepath\n",
    "        model_data = {\n",
    "            'knn': self.knn,\n",
    "            'scaler': self.scaler,\n",
    "            'pca': self.pca,\n",
    "            'sfm': self.sfm,\n",
    "            'filepath': file_path,\n",
    "            'features': self.features\n",
    "        }\n",
    "        with open(file_path, 'wb') as f:\n",
    "            pickle.dump(model_data, f)\n",
    "\n",
    "    def load(self, file_path):\n",
    "        with open(file_path, 'rb') as f:\n",
    "            model_data = pickle.load(f)\n",
    "\n",
    "        self.knn = model_data['knn']\n",
    "        self.scaler = model_data['scaler']\n",
    "        self.pca = model_data['pca']\n",
    "        self.sfm = model_data['sfm']\n",
    "        self.filepath = model_data['file_path']\n",
    "        self.features =  model_data['features']"
   ]
  },
  {
   "cell_type": "code",
   "execution_count": 8,
   "metadata": {},
   "outputs": [],
   "source": [
    "import etl_nodagster as etl\n",
    "\n",
    "albums = etl.transform_albums(etl.import_albums())\n",
    "artists = etl.transform_artists(etl.import_artists())\n",
    "tracks = etl.transform_tracks(etl.import_tracks())\n",
    "lyrics_features = etl.import_lyrics_features()\n",
    "audio_features = etl.import_audio_features()\n"
   ]
  },
  {
   "cell_type": "code",
   "execution_count": 9,
   "metadata": {},
   "outputs": [],
   "source": [
    "data = etl.match_spotify_data(tracks,albums,artists,audio_features,lyrics_features)"
   ]
  },
  {
   "cell_type": "code",
   "execution_count": 11,
   "metadata": {},
   "outputs": [
    {
     "ename": "KeyError",
     "evalue": "None",
     "output_type": "error",
     "traceback": [
      "\u001b[1;31m---------------------------------------------------------------------------\u001b[0m",
      "\u001b[1;31mKeyError\u001b[0m                                  Traceback (most recent call last)",
      "File \u001b[1;32mc:\\ProgramData\\Anaconda3\\envs\\Analyseanwendungen\\lib\\site-packages\\pandas\\core\\indexes\\base.py:3802\u001b[0m, in \u001b[0;36mIndex.get_loc\u001b[1;34m(self, key, method, tolerance)\u001b[0m\n\u001b[0;32m   3801\u001b[0m \u001b[39mtry\u001b[39;00m:\n\u001b[1;32m-> 3802\u001b[0m     \u001b[39mreturn\u001b[39;00m \u001b[39mself\u001b[39;49m\u001b[39m.\u001b[39;49m_engine\u001b[39m.\u001b[39;49mget_loc(casted_key)\n\u001b[0;32m   3803\u001b[0m \u001b[39mexcept\u001b[39;00m \u001b[39mKeyError\u001b[39;00m \u001b[39mas\u001b[39;00m err:\n",
      "File \u001b[1;32mc:\\ProgramData\\Anaconda3\\envs\\Analyseanwendungen\\lib\\site-packages\\pandas\\_libs\\index.pyx:138\u001b[0m, in \u001b[0;36mpandas._libs.index.IndexEngine.get_loc\u001b[1;34m()\u001b[0m\n",
      "File \u001b[1;32mc:\\ProgramData\\Anaconda3\\envs\\Analyseanwendungen\\lib\\site-packages\\pandas\\_libs\\index.pyx:165\u001b[0m, in \u001b[0;36mpandas._libs.index.IndexEngine.get_loc\u001b[1;34m()\u001b[0m\n",
      "File \u001b[1;32mpandas\\_libs\\hashtable_class_helper.pxi:5745\u001b[0m, in \u001b[0;36mpandas._libs.hashtable.PyObjectHashTable.get_item\u001b[1;34m()\u001b[0m\n",
      "File \u001b[1;32mpandas\\_libs\\hashtable_class_helper.pxi:5753\u001b[0m, in \u001b[0;36mpandas._libs.hashtable.PyObjectHashTable.get_item\u001b[1;34m()\u001b[0m\n",
      "\u001b[1;31mKeyError\u001b[0m: None",
      "\nThe above exception was the direct cause of the following exception:\n",
      "\u001b[1;31mKeyError\u001b[0m                                  Traceback (most recent call last)",
      "Cell \u001b[1;32mIn[11], line 2\u001b[0m\n\u001b[0;32m      1\u001b[0m model \u001b[39m=\u001b[39m SpotifyRecommander()\n\u001b[1;32m----> 2\u001b[0m model\u001b[39m.\u001b[39;49mtrain(data)\n",
      "Cell \u001b[1;32mIn[1], line 33\u001b[0m, in \u001b[0;36mSpotifyRecommander.train\u001b[1;34m(self, data)\u001b[0m\n\u001b[0;32m     30\u001b[0m \u001b[39mself\u001b[39m\u001b[39m.\u001b[39mfeatures \u001b[39m=\u001b[39m \u001b[39mself\u001b[39m\u001b[39m.\u001b[39mget_features(data)\n\u001b[0;32m     32\u001b[0m \u001b[39mself\u001b[39m\u001b[39m.\u001b[39mscaler \u001b[39m=\u001b[39m StandardScaler()\n\u001b[1;32m---> 33\u001b[0m scaled_data \u001b[39m=\u001b[39m \u001b[39mself\u001b[39m\u001b[39m.\u001b[39mscaler\u001b[39m.\u001b[39mfit_transform(data[\u001b[39mself\u001b[39;49m\u001b[39m.\u001b[39;49mfeatures])\n\u001b[0;32m     35\u001b[0m rf \u001b[39m=\u001b[39m RandomForestRegressor(n_estimators\u001b[39m=\u001b[39m\u001b[39m100\u001b[39m, random_state\u001b[39m=\u001b[39m\u001b[39m42\u001b[39m)\n\u001b[0;32m     36\u001b[0m rf\u001b[39m.\u001b[39mfit(scaled_data, data\u001b[39m.\u001b[39mindex)  \u001b[39m# Hier verwende ich data.index anstelle von target\u001b[39;00m\n",
      "File \u001b[1;32mc:\\ProgramData\\Anaconda3\\envs\\Analyseanwendungen\\lib\\site-packages\\pandas\\core\\frame.py:3807\u001b[0m, in \u001b[0;36mDataFrame.__getitem__\u001b[1;34m(self, key)\u001b[0m\n\u001b[0;32m   3805\u001b[0m \u001b[39mif\u001b[39;00m \u001b[39mself\u001b[39m\u001b[39m.\u001b[39mcolumns\u001b[39m.\u001b[39mnlevels \u001b[39m>\u001b[39m \u001b[39m1\u001b[39m:\n\u001b[0;32m   3806\u001b[0m     \u001b[39mreturn\u001b[39;00m \u001b[39mself\u001b[39m\u001b[39m.\u001b[39m_getitem_multilevel(key)\n\u001b[1;32m-> 3807\u001b[0m indexer \u001b[39m=\u001b[39m \u001b[39mself\u001b[39;49m\u001b[39m.\u001b[39;49mcolumns\u001b[39m.\u001b[39;49mget_loc(key)\n\u001b[0;32m   3808\u001b[0m \u001b[39mif\u001b[39;00m is_integer(indexer):\n\u001b[0;32m   3809\u001b[0m     indexer \u001b[39m=\u001b[39m [indexer]\n",
      "File \u001b[1;32mc:\\ProgramData\\Anaconda3\\envs\\Analyseanwendungen\\lib\\site-packages\\pandas\\core\\indexes\\base.py:3804\u001b[0m, in \u001b[0;36mIndex.get_loc\u001b[1;34m(self, key, method, tolerance)\u001b[0m\n\u001b[0;32m   3802\u001b[0m     \u001b[39mreturn\u001b[39;00m \u001b[39mself\u001b[39m\u001b[39m.\u001b[39m_engine\u001b[39m.\u001b[39mget_loc(casted_key)\n\u001b[0;32m   3803\u001b[0m \u001b[39mexcept\u001b[39;00m \u001b[39mKeyError\u001b[39;00m \u001b[39mas\u001b[39;00m err:\n\u001b[1;32m-> 3804\u001b[0m     \u001b[39mraise\u001b[39;00m \u001b[39mKeyError\u001b[39;00m(key) \u001b[39mfrom\u001b[39;00m \u001b[39merr\u001b[39;00m\n\u001b[0;32m   3805\u001b[0m \u001b[39mexcept\u001b[39;00m \u001b[39mTypeError\u001b[39;00m:\n\u001b[0;32m   3806\u001b[0m     \u001b[39m# If we have a listlike key, _check_indexing_error will raise\u001b[39;00m\n\u001b[0;32m   3807\u001b[0m     \u001b[39m#  InvalidIndexError. Otherwise we fall through and re-raise\u001b[39;00m\n\u001b[0;32m   3808\u001b[0m     \u001b[39m#  the TypeError.\u001b[39;00m\n\u001b[0;32m   3809\u001b[0m     \u001b[39mself\u001b[39m\u001b[39m.\u001b[39m_check_indexing_error(key)\n",
      "\u001b[1;31mKeyError\u001b[0m: None"
     ]
    }
   ],
   "source": [
    "model = SpotifyRecommander()\n",
    "model.train(data)\n"
   ]
  },
  {
   "cell_type": "code",
   "execution_count": null,
   "metadata": {},
   "outputs": [],
   "source": [
    "# model.save(f\"{datetime.now().strftime('%Y-%m-%d')}_model.pickle\")"
   ]
  }
 ],
 "metadata": {
  "kernelspec": {
   "display_name": "Python 3",
   "language": "python",
   "name": "python3"
  },
  "language_info": {
   "codemirror_mode": {
    "name": "ipython",
    "version": 3
   },
   "file_extension": ".py",
   "mimetype": "text/x-python",
   "name": "python",
   "nbconvert_exporter": "python",
   "pygments_lexer": "ipython3",
   "version": "3.8.16"
  },
  "orig_nbformat": 4
 },
 "nbformat": 4,
 "nbformat_minor": 2
}
