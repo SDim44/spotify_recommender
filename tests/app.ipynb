{
 "cells": [
  {
   "cell_type": "code",
   "execution_count": 9,
   "metadata": {
    "collapsed": true
   },
   "outputs": [
    {
     "data": {
      "text/plain": "Date\n2021-01-04 00:00:00-05:00    213.341995\n2021-01-05 00:00:00-05:00    213.547791\n2021-01-06 00:00:00-05:00    208.010696\n2021-01-07 00:00:00-05:00    213.930023\n2021-01-08 00:00:00-05:00    215.233459\n                                ...    \n2021-12-23 00:00:00-05:00    330.754578\n2021-12-27 00:00:00-05:00    338.423340\n2021-12-28 00:00:00-05:00    337.237427\n2021-12-29 00:00:00-05:00    337.929199\n2021-12-30 00:00:00-05:00    335.330139\nName: Close, Length: 251, dtype: float64"
     },
     "execution_count": 9,
     "metadata": {},
     "output_type": "execute_result"
    }
   ],
   "source": [
    "import streamlit as st\n",
    "import yfinance as yf\n",
    "from datetime import datetime\n",
    "\n",
    "stock_data = yf.Ticker('MSFT')\n",
    "hostorical_data = stock_data.history(period='1d', start='2021-01-01', end='2021-12-31')\n",
    "closing_price = hostorical_data.Close\n",
    "closing_price"
   ]
  },
  {
   "cell_type": "code",
   "execution_count": 22,
   "outputs": [
    {
     "data": {
      "text/plain": "datetime.datetime(2022, 1, 1, 0, 0)"
     },
     "execution_count": 22,
     "metadata": {},
     "output_type": "execute_result"
    }
   ],
   "source": [
    "min_date = datetime(2022,1,1)\n",
    "min_date"
   ],
   "metadata": {
    "collapsed": false
   }
  },
  {
   "cell_type": "code",
   "execution_count": 23,
   "outputs": [
    {
     "data": {
      "text/plain": "datetime.datetime(2023, 4, 17, 19, 7, 40, 334010)"
     },
     "execution_count": 23,
     "metadata": {},
     "output_type": "execute_result"
    }
   ],
   "source": [
    "max_date=datetime.now()\n",
    "max_date"
   ],
   "metadata": {
    "collapsed": false
   }
  }
 ],
 "metadata": {
  "kernelspec": {
   "display_name": "Python 3",
   "language": "python",
   "name": "python3"
  },
  "language_info": {
   "codemirror_mode": {
    "name": "ipython",
    "version": 2
   },
   "file_extension": ".py",
   "mimetype": "text/x-python",
   "name": "python",
   "nbconvert_exporter": "python",
   "pygments_lexer": "ipython2",
   "version": "2.7.6"
  }
 },
 "nbformat": 4,
 "nbformat_minor": 0
}
